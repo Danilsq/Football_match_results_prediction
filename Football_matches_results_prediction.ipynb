{
 "cells": [
  {
   "cell_type": "code",
   "execution_count": 1,
   "id": "1a57060f",
   "metadata": {},
   "outputs": [],
   "source": [
    "import pandas as pd\n",
    "import numpy as np\n",
    "import matplotlib.pyplot as plt\n",
    "import seaborn as sns"
   ]
  },
  {
   "cell_type": "code",
   "execution_count": 2,
   "id": "33a13a7c",
   "metadata": {},
   "outputs": [],
   "source": [
    "match_stat = pd.read_csv('C:/Users/123/Desktop/project3/match_info.csv', sep = ',')"
   ]
  },
  {
   "cell_type": "code",
   "execution_count": 3,
   "id": "b271c39a",
   "metadata": {},
   "outputs": [
    {
     "data": {
      "text/html": [
       "<div>\n",
       "<style scoped>\n",
       "    .dataframe tbody tr th:only-of-type {\n",
       "        vertical-align: middle;\n",
       "    }\n",
       "\n",
       "    .dataframe tbody tr th {\n",
       "        vertical-align: top;\n",
       "    }\n",
       "\n",
       "    .dataframe thead th {\n",
       "        text-align: right;\n",
       "    }\n",
       "</style>\n",
       "<table border=\"1\" class=\"dataframe\">\n",
       "  <thead>\n",
       "    <tr style=\"text-align: right;\">\n",
       "      <th></th>\n",
       "      <th>id</th>\n",
       "      <th>country_id</th>\n",
       "      <th>season</th>\n",
       "      <th>stage</th>\n",
       "      <th>date</th>\n",
       "      <th>match_api_id</th>\n",
       "      <th>home_team_api_id</th>\n",
       "      <th>away_team_api_id</th>\n",
       "      <th>home_team_goal</th>\n",
       "      <th>away_team_goal</th>\n",
       "      <th>league_name</th>\n",
       "      <th>country_name</th>\n",
       "      <th>home_team_ln</th>\n",
       "      <th>home_team_sn</th>\n",
       "      <th>away_team_ln</th>\n",
       "      <th>away_team_sn</th>\n",
       "      <th>match_winner_id</th>\n",
       "      <th>match_winner</th>\n",
       "    </tr>\n",
       "  </thead>\n",
       "  <tbody>\n",
       "    <tr>\n",
       "      <th>0</th>\n",
       "      <td>1</td>\n",
       "      <td>1</td>\n",
       "      <td>2008/2009</td>\n",
       "      <td>1</td>\n",
       "      <td>2008-08-17 00:00:00</td>\n",
       "      <td>492473</td>\n",
       "      <td>9987</td>\n",
       "      <td>9993</td>\n",
       "      <td>1</td>\n",
       "      <td>1</td>\n",
       "      <td>Belgium Jupiler League</td>\n",
       "      <td>Belgium</td>\n",
       "      <td>KRC Genk</td>\n",
       "      <td>GEN</td>\n",
       "      <td>Beerschot AC</td>\n",
       "      <td>BAC</td>\n",
       "      <td>0</td>\n",
       "      <td>draw</td>\n",
       "    </tr>\n",
       "    <tr>\n",
       "      <th>1</th>\n",
       "      <td>2</td>\n",
       "      <td>1</td>\n",
       "      <td>2008/2009</td>\n",
       "      <td>1</td>\n",
       "      <td>2008-08-16 00:00:00</td>\n",
       "      <td>492474</td>\n",
       "      <td>10000</td>\n",
       "      <td>9994</td>\n",
       "      <td>0</td>\n",
       "      <td>0</td>\n",
       "      <td>Belgium Jupiler League</td>\n",
       "      <td>Belgium</td>\n",
       "      <td>SV Zulte-Waregem</td>\n",
       "      <td>ZUL</td>\n",
       "      <td>Sporting Lokeren</td>\n",
       "      <td>LOK</td>\n",
       "      <td>0</td>\n",
       "      <td>draw</td>\n",
       "    </tr>\n",
       "    <tr>\n",
       "      <th>2</th>\n",
       "      <td>3</td>\n",
       "      <td>1</td>\n",
       "      <td>2008/2009</td>\n",
       "      <td>1</td>\n",
       "      <td>2008-08-16 00:00:00</td>\n",
       "      <td>492475</td>\n",
       "      <td>9984</td>\n",
       "      <td>8635</td>\n",
       "      <td>0</td>\n",
       "      <td>3</td>\n",
       "      <td>Belgium Jupiler League</td>\n",
       "      <td>Belgium</td>\n",
       "      <td>KSV Cercle Brugge</td>\n",
       "      <td>CEB</td>\n",
       "      <td>RSC Anderlecht</td>\n",
       "      <td>AND</td>\n",
       "      <td>8635</td>\n",
       "      <td>AND</td>\n",
       "    </tr>\n",
       "    <tr>\n",
       "      <th>3</th>\n",
       "      <td>4</td>\n",
       "      <td>1</td>\n",
       "      <td>2008/2009</td>\n",
       "      <td>1</td>\n",
       "      <td>2008-08-17 00:00:00</td>\n",
       "      <td>492476</td>\n",
       "      <td>9991</td>\n",
       "      <td>9998</td>\n",
       "      <td>5</td>\n",
       "      <td>0</td>\n",
       "      <td>Belgium Jupiler League</td>\n",
       "      <td>Belgium</td>\n",
       "      <td>KAA Gent</td>\n",
       "      <td>GEN</td>\n",
       "      <td>RAEC Mons</td>\n",
       "      <td>MON</td>\n",
       "      <td>9991</td>\n",
       "      <td>GEN</td>\n",
       "    </tr>\n",
       "    <tr>\n",
       "      <th>4</th>\n",
       "      <td>5</td>\n",
       "      <td>1</td>\n",
       "      <td>2008/2009</td>\n",
       "      <td>1</td>\n",
       "      <td>2008-08-16 00:00:00</td>\n",
       "      <td>492477</td>\n",
       "      <td>7947</td>\n",
       "      <td>9985</td>\n",
       "      <td>1</td>\n",
       "      <td>3</td>\n",
       "      <td>Belgium Jupiler League</td>\n",
       "      <td>Belgium</td>\n",
       "      <td>FCV Dender EH</td>\n",
       "      <td>DEN</td>\n",
       "      <td>Standard de Liège</td>\n",
       "      <td>STL</td>\n",
       "      <td>9985</td>\n",
       "      <td>STL</td>\n",
       "    </tr>\n",
       "  </tbody>\n",
       "</table>\n",
       "</div>"
      ],
      "text/plain": [
       "   id  country_id     season  stage                 date  match_api_id  \\\n",
       "0   1           1  2008/2009      1  2008-08-17 00:00:00        492473   \n",
       "1   2           1  2008/2009      1  2008-08-16 00:00:00        492474   \n",
       "2   3           1  2008/2009      1  2008-08-16 00:00:00        492475   \n",
       "3   4           1  2008/2009      1  2008-08-17 00:00:00        492476   \n",
       "4   5           1  2008/2009      1  2008-08-16 00:00:00        492477   \n",
       "\n",
       "   home_team_api_id  away_team_api_id  home_team_goal  away_team_goal  \\\n",
       "0              9987              9993               1               1   \n",
       "1             10000              9994               0               0   \n",
       "2              9984              8635               0               3   \n",
       "3              9991              9998               5               0   \n",
       "4              7947              9985               1               3   \n",
       "\n",
       "              league_name country_name       home_team_ln home_team_sn  \\\n",
       "0  Belgium Jupiler League      Belgium           KRC Genk          GEN   \n",
       "1  Belgium Jupiler League      Belgium   SV Zulte-Waregem          ZUL   \n",
       "2  Belgium Jupiler League      Belgium  KSV Cercle Brugge          CEB   \n",
       "3  Belgium Jupiler League      Belgium           KAA Gent          GEN   \n",
       "4  Belgium Jupiler League      Belgium      FCV Dender EH          DEN   \n",
       "\n",
       "        away_team_ln away_team_sn  match_winner_id match_winner  \n",
       "0       Beerschot AC          BAC                0         draw  \n",
       "1   Sporting Lokeren          LOK                0         draw  \n",
       "2     RSC Anderlecht          AND             8635          AND  \n",
       "3          RAEC Mons          MON             9991          GEN  \n",
       "4  Standard de Liège          STL             9985          STL  "
      ]
     },
     "execution_count": 3,
     "metadata": {},
     "output_type": "execute_result"
    }
   ],
   "source": [
    "match_stat.head(5)"
   ]
  },
  {
   "cell_type": "markdown",
   "id": "83dd939d",
   "metadata": {},
   "source": [
    "### Учитываем в названии команды сезон"
   ]
  },
  {
   "cell_type": "code",
   "execution_count": 4,
   "id": "8615e004",
   "metadata": {},
   "outputs": [
    {
     "data": {
      "text/html": [
       "<div>\n",
       "<style scoped>\n",
       "    .dataframe tbody tr th:only-of-type {\n",
       "        vertical-align: middle;\n",
       "    }\n",
       "\n",
       "    .dataframe tbody tr th {\n",
       "        vertical-align: top;\n",
       "    }\n",
       "\n",
       "    .dataframe thead th {\n",
       "        text-align: right;\n",
       "    }\n",
       "</style>\n",
       "<table border=\"1\" class=\"dataframe\">\n",
       "  <thead>\n",
       "    <tr style=\"text-align: right;\">\n",
       "      <th></th>\n",
       "      <th>id</th>\n",
       "      <th>country_id</th>\n",
       "      <th>season</th>\n",
       "      <th>stage</th>\n",
       "      <th>date</th>\n",
       "      <th>match_api_id</th>\n",
       "      <th>home_team_api_id</th>\n",
       "      <th>away_team_api_id</th>\n",
       "      <th>home_team_goal</th>\n",
       "      <th>away_team_goal</th>\n",
       "      <th>league_name</th>\n",
       "      <th>country_name</th>\n",
       "      <th>home_team_ln</th>\n",
       "      <th>home_team</th>\n",
       "      <th>home_team_sn</th>\n",
       "      <th>away_team_ln</th>\n",
       "      <th>away_team</th>\n",
       "      <th>away_team_sn</th>\n",
       "      <th>match_winner_id</th>\n",
       "      <th>match_winner</th>\n",
       "    </tr>\n",
       "  </thead>\n",
       "  <tbody>\n",
       "    <tr>\n",
       "      <th>0</th>\n",
       "      <td>1</td>\n",
       "      <td>1</td>\n",
       "      <td>2008/2009</td>\n",
       "      <td>1</td>\n",
       "      <td>2008-08-17 00:00:00</td>\n",
       "      <td>492473</td>\n",
       "      <td>9987</td>\n",
       "      <td>9993</td>\n",
       "      <td>1</td>\n",
       "      <td>1</td>\n",
       "      <td>Belgium Jupiler League</td>\n",
       "      <td>Belgium</td>\n",
       "      <td>KRC Genk</td>\n",
       "      <td>KRC Genk2008/2009</td>\n",
       "      <td>GEN</td>\n",
       "      <td>Beerschot AC</td>\n",
       "      <td>Beerschot AC2008/2009</td>\n",
       "      <td>BAC</td>\n",
       "      <td>0</td>\n",
       "      <td>draw</td>\n",
       "    </tr>\n",
       "    <tr>\n",
       "      <th>1</th>\n",
       "      <td>2</td>\n",
       "      <td>1</td>\n",
       "      <td>2008/2009</td>\n",
       "      <td>1</td>\n",
       "      <td>2008-08-16 00:00:00</td>\n",
       "      <td>492474</td>\n",
       "      <td>10000</td>\n",
       "      <td>9994</td>\n",
       "      <td>0</td>\n",
       "      <td>0</td>\n",
       "      <td>Belgium Jupiler League</td>\n",
       "      <td>Belgium</td>\n",
       "      <td>SV Zulte-Waregem</td>\n",
       "      <td>SV Zulte-Waregem2008/2009</td>\n",
       "      <td>ZUL</td>\n",
       "      <td>Sporting Lokeren</td>\n",
       "      <td>Sporting Lokeren2008/2009</td>\n",
       "      <td>LOK</td>\n",
       "      <td>0</td>\n",
       "      <td>draw</td>\n",
       "    </tr>\n",
       "    <tr>\n",
       "      <th>2</th>\n",
       "      <td>3</td>\n",
       "      <td>1</td>\n",
       "      <td>2008/2009</td>\n",
       "      <td>1</td>\n",
       "      <td>2008-08-16 00:00:00</td>\n",
       "      <td>492475</td>\n",
       "      <td>9984</td>\n",
       "      <td>8635</td>\n",
       "      <td>0</td>\n",
       "      <td>3</td>\n",
       "      <td>Belgium Jupiler League</td>\n",
       "      <td>Belgium</td>\n",
       "      <td>KSV Cercle Brugge</td>\n",
       "      <td>KSV Cercle Brugge2008/2009</td>\n",
       "      <td>CEB</td>\n",
       "      <td>RSC Anderlecht</td>\n",
       "      <td>RSC Anderlecht2008/2009</td>\n",
       "      <td>AND</td>\n",
       "      <td>8635</td>\n",
       "      <td>AND</td>\n",
       "    </tr>\n",
       "    <tr>\n",
       "      <th>3</th>\n",
       "      <td>4</td>\n",
       "      <td>1</td>\n",
       "      <td>2008/2009</td>\n",
       "      <td>1</td>\n",
       "      <td>2008-08-17 00:00:00</td>\n",
       "      <td>492476</td>\n",
       "      <td>9991</td>\n",
       "      <td>9998</td>\n",
       "      <td>5</td>\n",
       "      <td>0</td>\n",
       "      <td>Belgium Jupiler League</td>\n",
       "      <td>Belgium</td>\n",
       "      <td>KAA Gent</td>\n",
       "      <td>KAA Gent2008/2009</td>\n",
       "      <td>GEN</td>\n",
       "      <td>RAEC Mons</td>\n",
       "      <td>RAEC Mons2008/2009</td>\n",
       "      <td>MON</td>\n",
       "      <td>9991</td>\n",
       "      <td>GEN</td>\n",
       "    </tr>\n",
       "    <tr>\n",
       "      <th>4</th>\n",
       "      <td>5</td>\n",
       "      <td>1</td>\n",
       "      <td>2008/2009</td>\n",
       "      <td>1</td>\n",
       "      <td>2008-08-16 00:00:00</td>\n",
       "      <td>492477</td>\n",
       "      <td>7947</td>\n",
       "      <td>9985</td>\n",
       "      <td>1</td>\n",
       "      <td>3</td>\n",
       "      <td>Belgium Jupiler League</td>\n",
       "      <td>Belgium</td>\n",
       "      <td>FCV Dender EH</td>\n",
       "      <td>FCV Dender EH2008/2009</td>\n",
       "      <td>DEN</td>\n",
       "      <td>Standard de Liège</td>\n",
       "      <td>Standard de Liège2008/2009</td>\n",
       "      <td>STL</td>\n",
       "      <td>9985</td>\n",
       "      <td>STL</td>\n",
       "    </tr>\n",
       "  </tbody>\n",
       "</table>\n",
       "</div>"
      ],
      "text/plain": [
       "   id  country_id     season  stage                 date  match_api_id  \\\n",
       "0   1           1  2008/2009      1  2008-08-17 00:00:00        492473   \n",
       "1   2           1  2008/2009      1  2008-08-16 00:00:00        492474   \n",
       "2   3           1  2008/2009      1  2008-08-16 00:00:00        492475   \n",
       "3   4           1  2008/2009      1  2008-08-17 00:00:00        492476   \n",
       "4   5           1  2008/2009      1  2008-08-16 00:00:00        492477   \n",
       "\n",
       "   home_team_api_id  away_team_api_id  home_team_goal  away_team_goal  \\\n",
       "0              9987              9993               1               1   \n",
       "1             10000              9994               0               0   \n",
       "2              9984              8635               0               3   \n",
       "3              9991              9998               5               0   \n",
       "4              7947              9985               1               3   \n",
       "\n",
       "              league_name country_name       home_team_ln  \\\n",
       "0  Belgium Jupiler League      Belgium           KRC Genk   \n",
       "1  Belgium Jupiler League      Belgium   SV Zulte-Waregem   \n",
       "2  Belgium Jupiler League      Belgium  KSV Cercle Brugge   \n",
       "3  Belgium Jupiler League      Belgium           KAA Gent   \n",
       "4  Belgium Jupiler League      Belgium      FCV Dender EH   \n",
       "\n",
       "                    home_team home_team_sn       away_team_ln  \\\n",
       "0           KRC Genk2008/2009          GEN       Beerschot AC   \n",
       "1   SV Zulte-Waregem2008/2009          ZUL   Sporting Lokeren   \n",
       "2  KSV Cercle Brugge2008/2009          CEB     RSC Anderlecht   \n",
       "3           KAA Gent2008/2009          GEN          RAEC Mons   \n",
       "4      FCV Dender EH2008/2009          DEN  Standard de Liège   \n",
       "\n",
       "                    away_team away_team_sn  match_winner_id match_winner  \n",
       "0       Beerschot AC2008/2009          BAC                0         draw  \n",
       "1   Sporting Lokeren2008/2009          LOK                0         draw  \n",
       "2     RSC Anderlecht2008/2009          AND             8635          AND  \n",
       "3          RAEC Mons2008/2009          MON             9991          GEN  \n",
       "4  Standard de Liège2008/2009          STL             9985          STL  "
      ]
     },
     "execution_count": 4,
     "metadata": {},
     "output_type": "execute_result"
    }
   ],
   "source": [
    "match_stat['home_team'] = match_stat['home_team_ln']+match_stat['season']\n",
    "match_stat['away_team'] = match_stat['away_team_ln']+match_stat['season']\n",
    "match_stat = match_stat.iloc[:, [0,1,2,3,4,5,6,7,8,9,10,11,12,18,13,14,19,15,16,17]]\n",
    "match_stat\n",
    "match_stat.head(5)"
   ]
  },
  {
   "cell_type": "markdown",
   "id": "9ed53dfb",
   "metadata": {},
   "source": [
    "### Определяем количество побед каждой из команд"
   ]
  },
  {
   "cell_type": "code",
   "execution_count": 5,
   "id": "258abb2b",
   "metadata": {},
   "outputs": [],
   "source": [
    "# функция, определяющая победителя в матче\n",
    "def win(match_stat):\n",
    "    \n",
    "    if match_stat.home_team_goal > match_stat.away_team_goal:\n",
    "        return match_stat.home_team\n",
    "    elif match_stat.away_team_goal > match_stat.home_team_goal:\n",
    "        return match_stat.away_team\n",
    "    else:\n",
    "        return 'draw'"
   ]
  },
  {
   "cell_type": "code",
   "execution_count": 6,
   "id": "49b4d151",
   "metadata": {},
   "outputs": [],
   "source": [
    "match_stat['match_winner'] = match_stat[['home_team_goal','away_team_goal','home_team','away_team']].apply(win, axis=1)"
   ]
  },
  {
   "cell_type": "code",
   "execution_count": 7,
   "id": "8b01c1f7",
   "metadata": {},
   "outputs": [],
   "source": [
    "# считаем число побед для каждой команды\n",
    "win_count = match_stat.groupby(['match_winner', 'match_winner_id']).count().iloc[:,1:2] \\\n",
    "    .sort_values(by = 'country_id', ascending = False) \\\n",
    "    .rename(columns = {'country_id' : 'win_count'}).reset_index()"
   ]
  },
  {
   "cell_type": "code",
   "execution_count": 8,
   "id": "d207b44c",
   "metadata": {},
   "outputs": [],
   "source": [
    "win_count = win_count.drop(0)"
   ]
  },
  {
   "cell_type": "markdown",
   "id": "8e65b134",
   "metadata": {},
   "source": [
    "### Определяем количество поражений каждой команды"
   ]
  },
  {
   "cell_type": "code",
   "execution_count": 9,
   "id": "2a688b24",
   "metadata": {},
   "outputs": [],
   "source": [
    "# функция, определяющая проиграшего в матче\n",
    "def lose(match_stat):\n",
    "    \n",
    "    if match_stat.home_team_goal < match_stat.away_team_goal:\n",
    "        return match_stat.home_team\n",
    "    elif match_stat.home_team_goal > match_stat.away_team_goal:\n",
    "        return match_stat.away_team\n",
    "    else:\n",
    "        return 'draw'"
   ]
  },
  {
   "cell_type": "code",
   "execution_count": 10,
   "id": "1aac6447",
   "metadata": {},
   "outputs": [],
   "source": [
    "# функция, определяющая id проигравшего в матче\n",
    "def lose_id(match_stat):\n",
    "    \n",
    "    if match_stat.home_team_goal < match_stat.away_team_goal:\n",
    "        return match_stat.home_team_api_id\n",
    "    elif match_stat.home_team_goal > match_stat.away_team_goal:\n",
    "        return match_stat.away_team_api_id\n",
    "    else:\n",
    "        return 0"
   ]
  },
  {
   "cell_type": "code",
   "execution_count": 11,
   "id": "25cd3535",
   "metadata": {},
   "outputs": [],
   "source": [
    "match_stat['match_loser'] = match_stat[['home_team_goal', 'away_team_goal', 'home_team', 'away_team']] \\\n",
    "    .apply(lose, axis = 1)"
   ]
  },
  {
   "cell_type": "code",
   "execution_count": 12,
   "id": "2171de18",
   "metadata": {},
   "outputs": [],
   "source": [
    "match_stat['match_loser_id'] = match_stat[['home_team_goal', 'away_team_goal', 'home_team_api_id', 'away_team_api_id']] \\\n",
    "    .apply(lose_id, axis = 1)"
   ]
  },
  {
   "cell_type": "code",
   "execution_count": 13,
   "id": "ad8ba5cd",
   "metadata": {},
   "outputs": [],
   "source": [
    "# считаем число поражений для каждой команды\n",
    "lose_count = match_stat.groupby(['match_loser', 'match_loser_id']).count().iloc[:,1:2] \\\n",
    "    .sort_values(by = 'country_id', ascending = False) \\\n",
    "    .rename(columns = {'country_id' : 'lose_count'}).reset_index()"
   ]
  },
  {
   "cell_type": "code",
   "execution_count": 14,
   "id": "aa2dce4f",
   "metadata": {},
   "outputs": [],
   "source": [
    "lose_count = lose_count.drop(0)"
   ]
  },
  {
   "cell_type": "markdown",
   "id": "293cdad1",
   "metadata": {},
   "source": [
    "### Определяем количество ничьих для каждой команды"
   ]
  },
  {
   "cell_type": "code",
   "execution_count": 15,
   "id": "e5167d16",
   "metadata": {},
   "outputs": [],
   "source": [
    "df_away_draw = match_stat.loc[match_stat['match_winner'] == 'draw'] \\\n",
    "    .groupby(by = ['away_team', 'away_team_api_id']).count().iloc[:,1:2].reset_index()"
   ]
  },
  {
   "cell_type": "code",
   "execution_count": 16,
   "id": "9e8041ae",
   "metadata": {},
   "outputs": [],
   "source": [
    "df_home_draw = match_stat.loc[match_stat['match_winner'] == 'draw'] \\\n",
    "    .groupby(['home_team', 'home_team_api_id']).count().iloc[:,1:2].reset_index()"
   ]
  },
  {
   "cell_type": "code",
   "execution_count": 17,
   "id": "45873916",
   "metadata": {},
   "outputs": [],
   "source": [
    "# считаем число ничьих для каждой команды: дома и на выезде\n",
    "df_draw = df_away_draw.merge(df_home_draw, how = 'outer', left_on = ['away_team','away_team_api_id'], \n",
    "                             right_on = ['home_team', 'home_team_api_id']). \\\n",
    "    rename(columns = {'country_id_x': 'count_away_draw', 'country_id_y': 'count_home_draw'}).fillna(0)\n",
    "df_draw['sum_draw'] = df_draw['count_away_draw'] + df_draw['count_home_draw']"
   ]
  },
  {
   "cell_type": "code",
   "execution_count": 18,
   "id": "da10265d",
   "metadata": {},
   "outputs": [],
   "source": [
    "# некоторые команды не имели ничьих, играя на своем поле, поэтому после соединения двух датафреймов с помощью outer некоторые\n",
    "# значения для домашних команд обнулились. функция позволяет заполнить строки, где возникли значения 0, чтобы выстроить все\n",
    "# команды в 1 столбец\n",
    "for idx, row in df_draw.iterrows():\n",
    "    if  df_draw.loc[idx,'home_team'] == 0 and df_draw.loc[idx,'home_team_api_id'] == 0:\n",
    "        df_draw.loc[idx,'home_team'] = df_draw.away_team[idx]\n",
    "        df_draw.loc[idx,'home_team_api_id'] = df_draw.away_team_api_id[idx]"
   ]
  },
  {
   "cell_type": "code",
   "execution_count": 19,
   "id": "6eb6192e",
   "metadata": {},
   "outputs": [],
   "source": [
    "df_draw = df_draw[['home_team', 'home_team_api_id', 'sum_draw']].rename(columns = {'home_team': 'team_name',\n",
    "                                                                                   'home_team_api_id': 'team_api_id'})"
   ]
  },
  {
   "cell_type": "code",
   "execution_count": 20,
   "id": "75463c29",
   "metadata": {},
   "outputs": [
    {
     "data": {
      "text/html": [
       "<div>\n",
       "<style scoped>\n",
       "    .dataframe tbody tr th:only-of-type {\n",
       "        vertical-align: middle;\n",
       "    }\n",
       "\n",
       "    .dataframe tbody tr th {\n",
       "        vertical-align: top;\n",
       "    }\n",
       "\n",
       "    .dataframe thead th {\n",
       "        text-align: right;\n",
       "    }\n",
       "</style>\n",
       "<table border=\"1\" class=\"dataframe\">\n",
       "  <thead>\n",
       "    <tr style=\"text-align: right;\">\n",
       "      <th></th>\n",
       "      <th>team_name</th>\n",
       "      <th>team_api_id</th>\n",
       "      <th>sum_draw</th>\n",
       "    </tr>\n",
       "  </thead>\n",
       "  <tbody>\n",
       "    <tr>\n",
       "      <th>0</th>\n",
       "      <td>1. FC Kaiserslautern2010/2011</td>\n",
       "      <td>8350.0</td>\n",
       "      <td>7.0</td>\n",
       "    </tr>\n",
       "    <tr>\n",
       "      <th>1</th>\n",
       "      <td>1. FC Kaiserslautern2011/2012</td>\n",
       "      <td>8350.0</td>\n",
       "      <td>11.0</td>\n",
       "    </tr>\n",
       "    <tr>\n",
       "      <th>2</th>\n",
       "      <td>1. FC Köln2008/2009</td>\n",
       "      <td>8722.0</td>\n",
       "      <td>6.0</td>\n",
       "    </tr>\n",
       "    <tr>\n",
       "      <th>3</th>\n",
       "      <td>1. FC Köln2009/2010</td>\n",
       "      <td>8722.0</td>\n",
       "      <td>11.0</td>\n",
       "    </tr>\n",
       "    <tr>\n",
       "      <th>4</th>\n",
       "      <td>1. FC Köln2010/2011</td>\n",
       "      <td>8722.0</td>\n",
       "      <td>5.0</td>\n",
       "    </tr>\n",
       "  </tbody>\n",
       "</table>\n",
       "</div>"
      ],
      "text/plain": [
       "                       team_name  team_api_id  sum_draw\n",
       "0  1. FC Kaiserslautern2010/2011       8350.0       7.0\n",
       "1  1. FC Kaiserslautern2011/2012       8350.0      11.0\n",
       "2            1. FC Köln2008/2009       8722.0       6.0\n",
       "3            1. FC Köln2009/2010       8722.0      11.0\n",
       "4            1. FC Köln2010/2011       8722.0       5.0"
      ]
     },
     "execution_count": 20,
     "metadata": {},
     "output_type": "execute_result"
    }
   ],
   "source": [
    "df_draw.head()"
   ]
  },
  {
   "cell_type": "markdown",
   "id": "d8ed3387",
   "metadata": {},
   "source": [
    "### Создаем таблицу с данными по числу выигранных, проигранных матчей и коэффициенту выигрыша"
   ]
  },
  {
   "cell_type": "code",
   "execution_count": 21,
   "id": "d31eaa0c",
   "metadata": {},
   "outputs": [],
   "source": [
    "team_results = win_count.merge(lose_count, how = 'left', left_on = ['match_winner', 'match_winner_id'],\n",
    "                right_on = ['match_loser', 'match_loser_id'])"
   ]
  },
  {
   "cell_type": "code",
   "execution_count": 22,
   "id": "b03305ab",
   "metadata": {},
   "outputs": [],
   "source": [
    "team_results = team_results.drop(['match_loser', 'match_loser_id'], axis = 1)"
   ]
  },
  {
   "cell_type": "code",
   "execution_count": 23,
   "id": "9812a574",
   "metadata": {},
   "outputs": [],
   "source": [
    "team_results = team_results.fillna(0)"
   ]
  },
  {
   "cell_type": "code",
   "execution_count": 24,
   "id": "8e8bc25f",
   "metadata": {},
   "outputs": [],
   "source": [
    "team_results = team_results.merge(df_draw, how = 'left', left_on = ['match_winner', 'match_winner_id'], \n",
    "                   right_on = ['team_name', 'team_api_id'])"
   ]
  },
  {
   "cell_type": "code",
   "execution_count": 25,
   "id": "60d3fada",
   "metadata": {},
   "outputs": [],
   "source": [
    "team_results = team_results.drop(['team_name', 'team_api_id'], axis = 1).rename({'match_winner': 'team_name',\n",
    "                                                                                 'match_winner_id': 'team_api_id'})"
   ]
  },
  {
   "cell_type": "code",
   "execution_count": 26,
   "id": "84768b44",
   "metadata": {},
   "outputs": [],
   "source": [
    "team_results = team_results.fillna(0)"
   ]
  },
  {
   "cell_type": "code",
   "execution_count": 27,
   "id": "4a674c9e",
   "metadata": {},
   "outputs": [],
   "source": [
    "team_results['matches_count'] = team_results.win_count + team_results.lose_count + team_results.sum_draw"
   ]
  },
  {
   "cell_type": "code",
   "execution_count": 28,
   "id": "38016782",
   "metadata": {},
   "outputs": [],
   "source": [
    "team_results['win_coef'] = team_results['win_count'] / (team_results['win_count'] + team_results['lose_count'] \n",
    "                                                        + team_results['sum_draw'])"
   ]
  },
  {
   "cell_type": "code",
   "execution_count": 29,
   "id": "dbce72e7",
   "metadata": {},
   "outputs": [
    {
     "data": {
      "image/png": "[encoded data removed]",
      "text/plain": [
       "<Figure size 720x432 with 1 Axes>"
      ]
     },
     "metadata": {
      "needs_background": "light"
     },
     "output_type": "display_data"
    }
   ],
   "source": [
    "# scatter plot для зависимости между matches_count и win_coef. заметны лики, связанные с тем, что некоторые команды имеют мало\n",
    "# игр в сезонах (в частности в Белгийской лиге), поскольку исходные данные не отображают действительность. P.S. : мы проверили\n",
    "# исходные данные.\n",
    "plt.figure(figsize=(10,6))\n",
    "sns.scatterplot(x = 'win_coef', y = 'matches_count', data = team_results)\n",
    "sns.set_style(\"whitegrid\")"
   ]
  },
  {
   "cell_type": "code",
   "execution_count": 30,
   "id": "4aec4b52",
   "metadata": {},
   "outputs": [],
   "source": [
    "# скорректируем значения команд, коэффициент которых сильно завышен в связи с недостатком данных о матчей\n",
    "for idx, row in team_results.iterrows():\n",
    "    if  team_results.loc[idx,'win_coef'] > 0.4 and team_results.loc[idx,'matches_count'] < 20:\n",
    "        team_results.loc[idx,'sum_draw'] = team_results.sum_draw[idx] + 30\n",
    "        team_results.loc[idx,'matches_count'] = team_results.matches_count[idx] + 30"
   ]
  },
  {
   "cell_type": "code",
   "execution_count": 31,
   "id": "acedd106",
   "metadata": {},
   "outputs": [],
   "source": [
    "team_results['win_coef'] = team_results['win_count'] / (team_results['win_count'] + team_results['lose_count'] \n",
    "                                                        + team_results['sum_draw'])"
   ]
  },
  {
   "cell_type": "code",
   "execution_count": 32,
   "id": "b77b1f65",
   "metadata": {},
   "outputs": [],
   "source": [
    "team_results = team_results.rename(columns = {'match_winner': 'team_name', 'match_winner_id' : 'team_api_id',\n",
    "                                   'sum_draw': 'draw_count'})"
   ]
  },
  {
   "cell_type": "code",
   "execution_count": 33,
   "id": "ad4b8877",
   "metadata": {},
   "outputs": [
    {
     "data": {
      "text/html": [
       "<div>\n",
       "<style scoped>\n",
       "    .dataframe tbody tr th:only-of-type {\n",
       "        vertical-align: middle;\n",
       "    }\n",
       "\n",
       "    .dataframe tbody tr th {\n",
       "        vertical-align: top;\n",
       "    }\n",
       "\n",
       "    .dataframe thead th {\n",
       "        text-align: right;\n",
       "    }\n",
       "</style>\n",
       "<table border=\"1\" class=\"dataframe\">\n",
       "  <thead>\n",
       "    <tr style=\"text-align: right;\">\n",
       "      <th></th>\n",
       "      <th>team_name</th>\n",
       "      <th>team_api_id</th>\n",
       "      <th>win_count</th>\n",
       "      <th>lose_count</th>\n",
       "      <th>draw_count</th>\n",
       "      <th>matches_count</th>\n",
       "      <th>win_coef</th>\n",
       "    </tr>\n",
       "  </thead>\n",
       "  <tbody>\n",
       "    <tr>\n",
       "      <th>0</th>\n",
       "      <td>Juventus2013/2014</td>\n",
       "      <td>9885</td>\n",
       "      <td>33</td>\n",
       "      <td>2.0</td>\n",
       "      <td>3.0</td>\n",
       "      <td>38.0</td>\n",
       "      <td>0.868421</td>\n",
       "    </tr>\n",
       "    <tr>\n",
       "      <th>1</th>\n",
       "      <td>FC Barcelona2012/2013</td>\n",
       "      <td>8634</td>\n",
       "      <td>32</td>\n",
       "      <td>2.0</td>\n",
       "      <td>4.0</td>\n",
       "      <td>38.0</td>\n",
       "      <td>0.842105</td>\n",
       "    </tr>\n",
       "    <tr>\n",
       "      <th>2</th>\n",
       "      <td>Real Madrid CF2011/2012</td>\n",
       "      <td>8633</td>\n",
       "      <td>32</td>\n",
       "      <td>2.0</td>\n",
       "      <td>4.0</td>\n",
       "      <td>38.0</td>\n",
       "      <td>0.842105</td>\n",
       "    </tr>\n",
       "    <tr>\n",
       "      <th>3</th>\n",
       "      <td>FC Barcelona2009/2010</td>\n",
       "      <td>8634</td>\n",
       "      <td>31</td>\n",
       "      <td>1.0</td>\n",
       "      <td>6.0</td>\n",
       "      <td>38.0</td>\n",
       "      <td>0.815789</td>\n",
       "    </tr>\n",
       "    <tr>\n",
       "      <th>4</th>\n",
       "      <td>Real Madrid CF2009/2010</td>\n",
       "      <td>8633</td>\n",
       "      <td>31</td>\n",
       "      <td>4.0</td>\n",
       "      <td>3.0</td>\n",
       "      <td>38.0</td>\n",
       "      <td>0.815789</td>\n",
       "    </tr>\n",
       "  </tbody>\n",
       "</table>\n",
       "</div>"
      ],
      "text/plain": [
       "                 team_name  team_api_id  win_count  lose_count  draw_count  \\\n",
       "0        Juventus2013/2014         9885         33         2.0         3.0   \n",
       "1    FC Barcelona2012/2013         8634         32         2.0         4.0   \n",
       "2  Real Madrid CF2011/2012         8633         32         2.0         4.0   \n",
       "3    FC Barcelona2009/2010         8634         31         1.0         6.0   \n",
       "4  Real Madrid CF2009/2010         8633         31         4.0         3.0   \n",
       "\n",
       "   matches_count  win_coef  \n",
       "0           38.0  0.868421  \n",
       "1           38.0  0.842105  \n",
       "2           38.0  0.842105  \n",
       "3           38.0  0.815789  \n",
       "4           38.0  0.815789  "
      ]
     },
     "execution_count": 33,
     "metadata": {},
     "output_type": "execute_result"
    }
   ],
   "source": [
    "team_results.head()"
   ]
  },
  {
   "cell_type": "markdown",
   "id": "c7972b24",
   "metadata": {},
   "source": [
    "### Добавляем атрибуты команд"
   ]
  },
  {
   "cell_type": "code",
   "execution_count": 34,
   "id": "3066adba",
   "metadata": {},
   "outputs": [],
   "source": [
    "team_skills = pd.read_csv('C:/Users/123/Desktop/project3/team_skills.csv', sep = ',')"
   ]
  },
  {
   "cell_type": "code",
   "execution_count": 35,
   "id": "affe0371",
   "metadata": {},
   "outputs": [],
   "source": [
    "team_skills = team_skills.drop(['buildupplayspeedclass', 'buildupplaydribblingclass', 'buildupplaypassingclass',\n",
    "                               'buildupplaypositioningclass', 'chancecreationpassingclass', 'chancecreationcrossingclass',\n",
    "                               'chancecreationshootingclass', 'chancecreationpositioningclass', 'defencepressureclass',\n",
    "                               'defenceaggressionclass', 'defenceteamwidthclass', 'defencedefenderlineclass'], axis = 1)"
   ]
  },
  {
   "cell_type": "code",
   "execution_count": 36,
   "id": "288f8d9e",
   "metadata": {},
   "outputs": [],
   "source": [
    "team_skills['year'] = pd.DatetimeIndex(team_skills['date']).year-1"
   ]
  },
  {
   "cell_type": "code",
   "execution_count": 37,
   "id": "fd33344e",
   "metadata": {},
   "outputs": [],
   "source": [
    "match_stat_upd = match_stat.drop(['id', 'country_id', 'stage', 'match_api_id', 'country_name'], axis = 1)"
   ]
  },
  {
   "cell_type": "code",
   "execution_count": 38,
   "id": "7885a123",
   "metadata": {
    "scrolled": true
   },
   "outputs": [],
   "source": [
    "match_stat_upd = match_stat_upd.merge(team_results, how = 'left', left_on = ['home_team', 'home_team_api_id'], \n",
    "                                      right_on = ['team_name', 'team_api_id'])"
   ]
  },
  {
   "cell_type": "code",
   "execution_count": 39,
   "id": "1a73390d",
   "metadata": {},
   "outputs": [],
   "source": [
    "match_stat_upd = match_stat_upd.drop(['home_team_sn', 'away_team_sn', 'win_count', 'lose_count', 'draw_count',\n",
    "                                     'matches_count', 'team_name', 'team_api_id', 'match_winner_id', 'match_winner',\n",
    "                                     'match_loser', 'match_loser_id'], axis = 1)"
   ]
  },
  {
   "cell_type": "code",
   "execution_count": 40,
   "id": "f2df067c",
   "metadata": {},
   "outputs": [],
   "source": [
    "# функция добавляет классы {0, 1, 2} в случае победы домашней команды - 0, в случае ничьи домашней команды - 1, в случае\n",
    "# поражения домашней команды - 2\n",
    "def home_team_result(match_stat):\n",
    "    \n",
    "    if match_stat.home_team_goal > match_stat.away_team_goal:\n",
    "        return 0\n",
    "    elif match_stat.away_team_goal > match_stat.home_team_goal:\n",
    "        return 1\n",
    "    else:\n",
    "        return 2"
   ]
  },
  {
   "cell_type": "code",
   "execution_count": 41,
   "id": "6f5f1f11",
   "metadata": {},
   "outputs": [],
   "source": [
    "match_stat_upd['home_team_result'] = match_stat[['home_team_goal', 'away_team_goal', 'home_team', 'away_team']] \\\n",
    "    .apply(home_team_result, axis = 1)"
   ]
  },
  {
   "cell_type": "code",
   "execution_count": 42,
   "id": "bff29da5",
   "metadata": {},
   "outputs": [],
   "source": [
    "match_stat_upd['year'] = pd.DatetimeIndex(match_stat_upd['date']).year"
   ]
  },
  {
   "cell_type": "code",
   "execution_count": 43,
   "id": "fe0a2b78",
   "metadata": {},
   "outputs": [],
   "source": [
    "match_stat_upd = match_stat_upd.merge(team_skills, how = 'left', left_on = ['home_team_api_id', 'year'], \n",
    "                                      right_on = ['team_api_id', 'year'])"
   ]
  },
  {
   "cell_type": "code",
   "execution_count": 44,
   "id": "f8a4b372",
   "metadata": {},
   "outputs": [
    {
     "data": {
      "text/plain": [
       "<AxesSubplot:>"
      ]
     },
     "execution_count": 44,
     "metadata": {},
     "output_type": "execute_result"
    },
    {
     "data": {
      "image/png": "[encoded data removed]",
      "text/plain": [
       "<Figure size 720x432 with 2 Axes>"
      ]
     },
     "metadata": {},
     "output_type": "display_data"
    }
   ],
   "source": [
    "# построили матрицу корреляций для выявления наиболее актуальных атрибутов команд. нам интересно было бы включить переменные,\n",
    "# которые коррелируют в наибольшей степени с переменной \"win_coef\". таковыми были выбраны \"chancescreationsshooting\", \n",
    "# \"defencepressure\", \"defenceaggression\"\n",
    "plt.figure(figsize = (10,6))\n",
    "sns.heatmap(match_stat_upd.iloc[:,[11, 19, 20, 21, 22, 23, 24, 25, 26, 27, 28]].corr(), cmap=\"YlGnBu\", annot=True)"
   ]
  },
  {
   "cell_type": "code",
   "execution_count": 45,
   "id": "d8d44aa1",
   "metadata": {},
   "outputs": [],
   "source": [
    "match_stat_upd = match_stat_upd.drop(['date_x', 'team_api_id', 'team_fifa_api_id', 'team_long_name', 'team_short_name', \n",
    "                                      'id', 'date_y', 'buildupplayspeed', 'buildupplaydribbling', 'buildupplaypassing', \n",
    "                                      'chancecreationpassing', 'chancecreationcrossing', 'defenceteamwidth'], axis = 1)"
   ]
  },
  {
   "cell_type": "code",
   "execution_count": 46,
   "id": "e9e100a4",
   "metadata": {},
   "outputs": [],
   "source": [
    "match_stat_upd = match_stat_upd[match_stat_upd['year'] != 2008]"
   ]
  },
  {
   "cell_type": "code",
   "execution_count": 47,
   "id": "0ed63f97",
   "metadata": {},
   "outputs": [],
   "source": [
    "# заполним пропуски в атрибутах медианными значения в зависимости от сезона игр\n",
    "match_stat_upd[['chancecreationshooting', 'defencepressure', 'defenceaggression']] = match_stat_upd[['chancecreationshooting',\n",
    "                                                                                                     'defencepressure', \n",
    "                                                                                                     'defenceaggression']] \\\n",
    "    .fillna(match_stat_upd.groupby('year')[['chancecreationshooting', 'defencepressure', 'defenceaggression']] \\\n",
    "    .transform('median'))"
   ]
  },
  {
   "cell_type": "code",
   "execution_count": 48,
   "id": "c10e8f5b",
   "metadata": {},
   "outputs": [
    {
     "data": {
      "text/html": [
       "<div>\n",
       "<style scoped>\n",
       "    .dataframe tbody tr th:only-of-type {\n",
       "        vertical-align: middle;\n",
       "    }\n",
       "\n",
       "    .dataframe tbody tr th {\n",
       "        vertical-align: top;\n",
       "    }\n",
       "\n",
       "    .dataframe thead th {\n",
       "        text-align: right;\n",
       "    }\n",
       "</style>\n",
       "<table border=\"1\" class=\"dataframe\">\n",
       "  <thead>\n",
       "    <tr style=\"text-align: right;\">\n",
       "      <th></th>\n",
       "      <th>season</th>\n",
       "      <th>home_team_api_id</th>\n",
       "      <th>away_team_api_id</th>\n",
       "      <th>home_team_goal</th>\n",
       "      <th>away_team_goal</th>\n",
       "      <th>league_name</th>\n",
       "      <th>home_team_ln</th>\n",
       "      <th>home_team</th>\n",
       "      <th>away_team_ln</th>\n",
       "      <th>away_team</th>\n",
       "      <th>win_coef</th>\n",
       "      <th>home_team_result</th>\n",
       "      <th>chancecreationshooting</th>\n",
       "      <th>defencepressure</th>\n",
       "      <th>defenceaggression</th>\n",
       "    </tr>\n",
       "    <tr>\n",
       "      <th>year</th>\n",
       "      <th></th>\n",
       "      <th></th>\n",
       "      <th></th>\n",
       "      <th></th>\n",
       "      <th></th>\n",
       "      <th></th>\n",
       "      <th></th>\n",
       "      <th></th>\n",
       "      <th></th>\n",
       "      <th></th>\n",
       "      <th></th>\n",
       "      <th></th>\n",
       "      <th></th>\n",
       "      <th></th>\n",
       "      <th></th>\n",
       "    </tr>\n",
       "  </thead>\n",
       "  <tbody>\n",
       "    <tr>\n",
       "      <th>2015</th>\n",
       "      <td>3374</td>\n",
       "      <td>3374</td>\n",
       "      <td>3374</td>\n",
       "      <td>3374</td>\n",
       "      <td>3374</td>\n",
       "      <td>3374</td>\n",
       "      <td>3374</td>\n",
       "      <td>3374</td>\n",
       "      <td>3374</td>\n",
       "      <td>3374</td>\n",
       "      <td>3374</td>\n",
       "      <td>3374</td>\n",
       "      <td>0</td>\n",
       "      <td>0</td>\n",
       "      <td>0</td>\n",
       "    </tr>\n",
       "    <tr>\n",
       "      <th>2016</th>\n",
       "      <td>1630</td>\n",
       "      <td>1630</td>\n",
       "      <td>1630</td>\n",
       "      <td>1630</td>\n",
       "      <td>1630</td>\n",
       "      <td>1630</td>\n",
       "      <td>1630</td>\n",
       "      <td>1630</td>\n",
       "      <td>1630</td>\n",
       "      <td>1630</td>\n",
       "      <td>1630</td>\n",
       "      <td>1630</td>\n",
       "      <td>0</td>\n",
       "      <td>0</td>\n",
       "      <td>0</td>\n",
       "    </tr>\n",
       "  </tbody>\n",
       "</table>\n",
       "</div>"
      ],
      "text/plain": [
       "      season  home_team_api_id  away_team_api_id  home_team_goal  \\\n",
       "year                                                               \n",
       "2015    3374              3374              3374            3374   \n",
       "2016    1630              1630              1630            1630   \n",
       "\n",
       "      away_team_goal  league_name  home_team_ln  home_team  away_team_ln  \\\n",
       "year                                                                       \n",
       "2015            3374         3374          3374       3374          3374   \n",
       "2016            1630         1630          1630       1630          1630   \n",
       "\n",
       "      away_team  win_coef  home_team_result  chancecreationshooting  \\\n",
       "year                                                                  \n",
       "2015       3374      3374              3374                       0   \n",
       "2016       1630      1630              1630                       0   \n",
       "\n",
       "      defencepressure  defenceaggression  \n",
       "year                                      \n",
       "2015                0                  0  \n",
       "2016                0                  0  "
      ]
     },
     "execution_count": 48,
     "metadata": {},
     "output_type": "execute_result"
    }
   ],
   "source": [
    "# для 2015 и 2016 годов нет заполненных значений, поскольку в исходном датафрейме атрибутов команд данные приведены до 2015 года \n",
    "match_stat_upd[match_stat_upd.isna().any(axis=1)].groupby('year').count()"
   ]
  },
  {
   "cell_type": "code",
   "execution_count": 49,
   "id": "30418c78",
   "metadata": {},
   "outputs": [
    {
     "data": {
      "text/html": [
       "<div>\n",
       "<style scoped>\n",
       "    .dataframe tbody tr th:only-of-type {\n",
       "        vertical-align: middle;\n",
       "    }\n",
       "\n",
       "    .dataframe tbody tr th {\n",
       "        vertical-align: top;\n",
       "    }\n",
       "\n",
       "    .dataframe thead th {\n",
       "        text-align: right;\n",
       "    }\n",
       "</style>\n",
       "<table border=\"1\" class=\"dataframe\">\n",
       "  <thead>\n",
       "    <tr style=\"text-align: right;\">\n",
       "      <th></th>\n",
       "      <th>season</th>\n",
       "      <th>home_team_api_id</th>\n",
       "      <th>away_team_api_id</th>\n",
       "      <th>home_team_goal</th>\n",
       "      <th>away_team_goal</th>\n",
       "      <th>league_name</th>\n",
       "      <th>home_team_ln</th>\n",
       "      <th>home_team</th>\n",
       "      <th>away_team_ln</th>\n",
       "      <th>away_team</th>\n",
       "      <th>win_coef</th>\n",
       "      <th>home_team_result</th>\n",
       "      <th>year</th>\n",
       "      <th>chancecreationshooting</th>\n",
       "      <th>defencepressure</th>\n",
       "      <th>defenceaggression</th>\n",
       "    </tr>\n",
       "  </thead>\n",
       "  <tbody>\n",
       "    <tr>\n",
       "      <th>81</th>\n",
       "      <td>2008/2009</td>\n",
       "      <td>9993</td>\n",
       "      <td>9987</td>\n",
       "      <td>4</td>\n",
       "      <td>1</td>\n",
       "      <td>Belgium Jupiler League</td>\n",
       "      <td>Beerschot AC</td>\n",
       "      <td>Beerschot AC2008/2009</td>\n",
       "      <td>KRC Genk</td>\n",
       "      <td>KRC Genk2008/2009</td>\n",
       "      <td>0.323529</td>\n",
       "      <td>0</td>\n",
       "      <td>2009</td>\n",
       "      <td>50.0</td>\n",
       "      <td>70.0</td>\n",
       "      <td>70.0</td>\n",
       "    </tr>\n",
       "    <tr>\n",
       "      <th>82</th>\n",
       "      <td>2008/2009</td>\n",
       "      <td>9994</td>\n",
       "      <td>10000</td>\n",
       "      <td>2</td>\n",
       "      <td>1</td>\n",
       "      <td>Belgium Jupiler League</td>\n",
       "      <td>Sporting Lokeren</td>\n",
       "      <td>Sporting Lokeren2008/2009</td>\n",
       "      <td>SV Zulte-Waregem</td>\n",
       "      <td>SV Zulte-Waregem2008/2009</td>\n",
       "      <td>0.382353</td>\n",
       "      <td>0</td>\n",
       "      <td>2009</td>\n",
       "      <td>50.0</td>\n",
       "      <td>65.0</td>\n",
       "      <td>65.0</td>\n",
       "    </tr>\n",
       "  </tbody>\n",
       "</table>\n",
       "</div>"
      ],
      "text/plain": [
       "       season  home_team_api_id  away_team_api_id  home_team_goal  \\\n",
       "81  2008/2009              9993              9987               4   \n",
       "82  2008/2009              9994             10000               2   \n",
       "\n",
       "    away_team_goal             league_name      home_team_ln  \\\n",
       "81               1  Belgium Jupiler League      Beerschot AC   \n",
       "82               1  Belgium Jupiler League  Sporting Lokeren   \n",
       "\n",
       "                    home_team      away_team_ln                  away_team  \\\n",
       "81      Beerschot AC2008/2009          KRC Genk          KRC Genk2008/2009   \n",
       "82  Sporting Lokeren2008/2009  SV Zulte-Waregem  SV Zulte-Waregem2008/2009   \n",
       "\n",
       "    win_coef  home_team_result  year  chancecreationshooting  defencepressure  \\\n",
       "81  0.323529                 0  2009                    50.0             70.0   \n",
       "82  0.382353                 0  2009                    50.0             65.0   \n",
       "\n",
       "    defenceaggression  \n",
       "81               70.0  \n",
       "82               65.0  "
      ]
     },
     "execution_count": 49,
     "metadata": {},
     "output_type": "execute_result"
    }
   ],
   "source": [
    "match_stat_upd.head(2)"
   ]
  },
  {
   "cell_type": "code",
   "execution_count": 50,
   "id": "5d597cb1",
   "metadata": {},
   "outputs": [
    {
     "data": {
      "text/html": [
       "<div>\n",
       "<style scoped>\n",
       "    .dataframe tbody tr th:only-of-type {\n",
       "        vertical-align: middle;\n",
       "    }\n",
       "\n",
       "    .dataframe tbody tr th {\n",
       "        vertical-align: top;\n",
       "    }\n",
       "\n",
       "    .dataframe thead th {\n",
       "        text-align: right;\n",
       "    }\n",
       "</style>\n",
       "<table border=\"1\" class=\"dataframe\">\n",
       "  <thead>\n",
       "    <tr style=\"text-align: right;\">\n",
       "      <th></th>\n",
       "      <th>year</th>\n",
       "      <th>league_name</th>\n",
       "      <th>count</th>\n",
       "      <th>mean</th>\n",
       "      <th>std</th>\n",
       "      <th>min</th>\n",
       "      <th>25%</th>\n",
       "      <th>50%</th>\n",
       "      <th>75%</th>\n",
       "      <th>max</th>\n",
       "    </tr>\n",
       "  </thead>\n",
       "  <tbody>\n",
       "    <tr>\n",
       "      <th>0</th>\n",
       "      <td>2009</td>\n",
       "      <td>Belgium Jupiler League</td>\n",
       "      <td>297.0</td>\n",
       "      <td>1.377104</td>\n",
       "      <td>1.074527</td>\n",
       "      <td>0.0</td>\n",
       "      <td>1.00</td>\n",
       "      <td>1.0</td>\n",
       "      <td>2.0</td>\n",
       "      <td>6.0</td>\n",
       "    </tr>\n",
       "    <tr>\n",
       "      <th>1</th>\n",
       "      <td>2009</td>\n",
       "      <td>England Premier League</td>\n",
       "      <td>378.0</td>\n",
       "      <td>1.391534</td>\n",
       "      <td>1.229665</td>\n",
       "      <td>0.0</td>\n",
       "      <td>1.00</td>\n",
       "      <td>1.0</td>\n",
       "      <td>2.0</td>\n",
       "      <td>8.0</td>\n",
       "    </tr>\n",
       "    <tr>\n",
       "      <th>2</th>\n",
       "      <td>2009</td>\n",
       "      <td>France Ligue 1</td>\n",
       "      <td>377.0</td>\n",
       "      <td>1.257294</td>\n",
       "      <td>1.028894</td>\n",
       "      <td>0.0</td>\n",
       "      <td>1.00</td>\n",
       "      <td>1.0</td>\n",
       "      <td>2.0</td>\n",
       "      <td>5.0</td>\n",
       "    </tr>\n",
       "    <tr>\n",
       "      <th>3</th>\n",
       "      <td>2009</td>\n",
       "      <td>Germany 1. Bundesliga</td>\n",
       "      <td>306.0</td>\n",
       "      <td>1.388889</td>\n",
       "      <td>1.276165</td>\n",
       "      <td>0.0</td>\n",
       "      <td>0.00</td>\n",
       "      <td>1.0</td>\n",
       "      <td>2.0</td>\n",
       "      <td>6.0</td>\n",
       "    </tr>\n",
       "    <tr>\n",
       "      <th>4</th>\n",
       "      <td>2009</td>\n",
       "      <td>Italy Serie A</td>\n",
       "      <td>377.0</td>\n",
       "      <td>1.214854</td>\n",
       "      <td>1.023132</td>\n",
       "      <td>0.0</td>\n",
       "      <td>0.00</td>\n",
       "      <td>1.0</td>\n",
       "      <td>2.0</td>\n",
       "      <td>5.0</td>\n",
       "    </tr>\n",
       "    <tr>\n",
       "      <th>...</th>\n",
       "      <td>...</td>\n",
       "      <td>...</td>\n",
       "      <td>...</td>\n",
       "      <td>...</td>\n",
       "      <td>...</td>\n",
       "      <td>...</td>\n",
       "      <td>...</td>\n",
       "      <td>...</td>\n",
       "      <td>...</td>\n",
       "      <td>...</td>\n",
       "    </tr>\n",
       "    <tr>\n",
       "      <th>83</th>\n",
       "      <td>2016</td>\n",
       "      <td>Poland Ekstraklasa</td>\n",
       "      <td>72.0</td>\n",
       "      <td>1.236111</td>\n",
       "      <td>1.204371</td>\n",
       "      <td>0.0</td>\n",
       "      <td>0.00</td>\n",
       "      <td>1.0</td>\n",
       "      <td>2.0</td>\n",
       "      <td>5.0</td>\n",
       "    </tr>\n",
       "    <tr>\n",
       "      <th>84</th>\n",
       "      <td>2016</td>\n",
       "      <td>Portugal Liga ZON Sagres</td>\n",
       "      <td>180.0</td>\n",
       "      <td>1.427778</td>\n",
       "      <td>1.294727</td>\n",
       "      <td>0.0</td>\n",
       "      <td>1.00</td>\n",
       "      <td>1.0</td>\n",
       "      <td>2.0</td>\n",
       "      <td>6.0</td>\n",
       "    </tr>\n",
       "    <tr>\n",
       "      <th>85</th>\n",
       "      <td>2016</td>\n",
       "      <td>Scotland Premier League</td>\n",
       "      <td>108.0</td>\n",
       "      <td>1.472222</td>\n",
       "      <td>1.377105</td>\n",
       "      <td>0.0</td>\n",
       "      <td>1.00</td>\n",
       "      <td>1.0</td>\n",
       "      <td>2.0</td>\n",
       "      <td>7.0</td>\n",
       "    </tr>\n",
       "    <tr>\n",
       "      <th>86</th>\n",
       "      <td>2016</td>\n",
       "      <td>Spain LIGA BBVA</td>\n",
       "      <td>211.0</td>\n",
       "      <td>1.554502</td>\n",
       "      <td>1.489844</td>\n",
       "      <td>0.0</td>\n",
       "      <td>1.00</td>\n",
       "      <td>1.0</td>\n",
       "      <td>2.0</td>\n",
       "      <td>8.0</td>\n",
       "    </tr>\n",
       "    <tr>\n",
       "      <th>87</th>\n",
       "      <td>2016</td>\n",
       "      <td>Switzerland Super League</td>\n",
       "      <td>90.0</td>\n",
       "      <td>1.644444</td>\n",
       "      <td>1.567300</td>\n",
       "      <td>0.0</td>\n",
       "      <td>0.25</td>\n",
       "      <td>1.0</td>\n",
       "      <td>3.0</td>\n",
       "      <td>7.0</td>\n",
       "    </tr>\n",
       "  </tbody>\n",
       "</table>\n",
       "<p>88 rows × 10 columns</p>\n",
       "</div>"
      ],
      "text/plain": [
       "    year               league_name  count      mean       std  min   25%  50%  \\\n",
       "0   2009    Belgium Jupiler League  297.0  1.377104  1.074527  0.0  1.00  1.0   \n",
       "1   2009    England Premier League  378.0  1.391534  1.229665  0.0  1.00  1.0   \n",
       "2   2009            France Ligue 1  377.0  1.257294  1.028894  0.0  1.00  1.0   \n",
       "3   2009     Germany 1. Bundesliga  306.0  1.388889  1.276165  0.0  0.00  1.0   \n",
       "4   2009             Italy Serie A  377.0  1.214854  1.023132  0.0  0.00  1.0   \n",
       "..   ...                       ...    ...       ...       ...  ...   ...  ...   \n",
       "83  2016        Poland Ekstraklasa   72.0  1.236111  1.204371  0.0  0.00  1.0   \n",
       "84  2016  Portugal Liga ZON Sagres  180.0  1.427778  1.294727  0.0  1.00  1.0   \n",
       "85  2016   Scotland Premier League  108.0  1.472222  1.377105  0.0  1.00  1.0   \n",
       "86  2016           Spain LIGA BBVA  211.0  1.554502  1.489844  0.0  1.00  1.0   \n",
       "87  2016  Switzerland Super League   90.0  1.644444  1.567300  0.0  0.25  1.0   \n",
       "\n",
       "    75%  max  \n",
       "0   2.0  6.0  \n",
       "1   2.0  8.0  \n",
       "2   2.0  5.0  \n",
       "3   2.0  6.0  \n",
       "4   2.0  5.0  \n",
       "..  ...  ...  \n",
       "83  2.0  5.0  \n",
       "84  2.0  6.0  \n",
       "85  2.0  7.0  \n",
       "86  2.0  8.0  \n",
       "87  3.0  7.0  \n",
       "\n",
       "[88 rows x 10 columns]"
      ]
     },
     "execution_count": 50,
     "metadata": {},
     "output_type": "execute_result"
    }
   ],
   "source": [
    "# Создали датафрейм с лигами и их средней разницой голов в матчах по сезонам\n",
    "match_stat_upd['goal_diff'] = abs(match_stat_upd['home_team_goal'] - match_stat_upd['away_team_goal'])\n",
    "df_league_power = match_stat_upd.groupby(['year', 'league_name'])['goal_diff'].describe().reset_index()\n",
    "df_league_power"
   ]
  },
  {
   "cell_type": "code",
   "execution_count": 51,
   "id": "1a203c06",
   "metadata": {},
   "outputs": [],
   "source": [
    "# Добавляем в наш основной датафрейм среднюю разницу голов в матчах, сгруппированных по сезонам и лигам\n",
    "match_stat_upd = match_stat_upd.merge(df_league_power, how = 'left', left_on=['year','league_name'],\n",
    "                                                                     right_on=['year','league_name'])"
   ]
  },
  {
   "cell_type": "code",
   "execution_count": 52,
   "id": "c6aade60",
   "metadata": {},
   "outputs": [],
   "source": [
    "match_stat_upd = match_stat_upd.drop(['count','std', 'min', '25%', '50%', '75%', 'max', 'goal_diff'], axis=1)"
   ]
  },
  {
   "cell_type": "code",
   "execution_count": 53,
   "id": "c29d7141",
   "metadata": {},
   "outputs": [],
   "source": [
    "match_stat_upd = match_stat_upd.rename(columns = {'mean': 'avg_goal_diff_by_league'})"
   ]
  },
  {
   "cell_type": "code",
   "execution_count": 54,
   "id": "e10fa592",
   "metadata": {},
   "outputs": [
    {
     "name": "stderr",
     "output_type": "stream",
     "text": [
      "C:\\Users\\123\\AppData\\Local\\Temp/ipykernel_7148/3240727098.py:1: UserWarning: Boolean Series key will be reindexed to match DataFrame index.\n",
      "  match_stat_f_model = match_stat_upd[match_stat_upd.year != 2015][match_stat_upd.year != 2016].reset_index(drop = True)\n"
     ]
    }
   ],
   "source": [
    "match_stat_f_model = match_stat_upd[match_stat_upd.year != 2015][match_stat_upd.year != 2016].reset_index(drop = True)"
   ]
  },
  {
   "cell_type": "code",
   "execution_count": 55,
   "id": "f0131018",
   "metadata": {},
   "outputs": [
    {
     "data": {
      "text/html": [
       "<div>\n",
       "<style scoped>\n",
       "    .dataframe tbody tr th:only-of-type {\n",
       "        vertical-align: middle;\n",
       "    }\n",
       "\n",
       "    .dataframe tbody tr th {\n",
       "        vertical-align: top;\n",
       "    }\n",
       "\n",
       "    .dataframe thead th {\n",
       "        text-align: right;\n",
       "    }\n",
       "</style>\n",
       "<table border=\"1\" class=\"dataframe\">\n",
       "  <thead>\n",
       "    <tr style=\"text-align: right;\">\n",
       "      <th></th>\n",
       "      <th>season</th>\n",
       "      <th>home_team_api_id</th>\n",
       "      <th>away_team_api_id</th>\n",
       "      <th>home_team_goal</th>\n",
       "      <th>away_team_goal</th>\n",
       "      <th>league_name</th>\n",
       "      <th>home_team_ln</th>\n",
       "      <th>home_team</th>\n",
       "      <th>away_team_ln</th>\n",
       "      <th>away_team</th>\n",
       "      <th>win_coef</th>\n",
       "      <th>home_team_result</th>\n",
       "      <th>year</th>\n",
       "      <th>chancecreationshooting</th>\n",
       "      <th>defencepressure</th>\n",
       "      <th>defenceaggression</th>\n",
       "      <th>avg_goal_diff_by_league</th>\n",
       "    </tr>\n",
       "  </thead>\n",
       "  <tbody>\n",
       "    <tr>\n",
       "      <th>0</th>\n",
       "      <td>2008/2009</td>\n",
       "      <td>9993</td>\n",
       "      <td>9987</td>\n",
       "      <td>4</td>\n",
       "      <td>1</td>\n",
       "      <td>Belgium Jupiler League</td>\n",
       "      <td>Beerschot AC</td>\n",
       "      <td>Beerschot AC2008/2009</td>\n",
       "      <td>KRC Genk</td>\n",
       "      <td>KRC Genk2008/2009</td>\n",
       "      <td>0.323529</td>\n",
       "      <td>0</td>\n",
       "      <td>2009</td>\n",
       "      <td>50.0</td>\n",
       "      <td>70.0</td>\n",
       "      <td>70.0</td>\n",
       "      <td>1.377104</td>\n",
       "    </tr>\n",
       "    <tr>\n",
       "      <th>1</th>\n",
       "      <td>2008/2009</td>\n",
       "      <td>9994</td>\n",
       "      <td>10000</td>\n",
       "      <td>2</td>\n",
       "      <td>1</td>\n",
       "      <td>Belgium Jupiler League</td>\n",
       "      <td>Sporting Lokeren</td>\n",
       "      <td>Sporting Lokeren2008/2009</td>\n",
       "      <td>SV Zulte-Waregem</td>\n",
       "      <td>SV Zulte-Waregem2008/2009</td>\n",
       "      <td>0.382353</td>\n",
       "      <td>0</td>\n",
       "      <td>2009</td>\n",
       "      <td>50.0</td>\n",
       "      <td>65.0</td>\n",
       "      <td>65.0</td>\n",
       "      <td>1.377104</td>\n",
       "    </tr>\n",
       "    <tr>\n",
       "      <th>2</th>\n",
       "      <td>2008/2009</td>\n",
       "      <td>8635</td>\n",
       "      <td>9984</td>\n",
       "      <td>1</td>\n",
       "      <td>2</td>\n",
       "      <td>Belgium Jupiler League</td>\n",
       "      <td>RSC Anderlecht</td>\n",
       "      <td>RSC Anderlecht2008/2009</td>\n",
       "      <td>KSV Cercle Brugge</td>\n",
       "      <td>KSV Cercle Brugge2008/2009</td>\n",
       "      <td>0.705882</td>\n",
       "      <td>1</td>\n",
       "      <td>2009</td>\n",
       "      <td>60.0</td>\n",
       "      <td>70.0</td>\n",
       "      <td>50.0</td>\n",
       "      <td>1.377104</td>\n",
       "    </tr>\n",
       "    <tr>\n",
       "      <th>3</th>\n",
       "      <td>2008/2009</td>\n",
       "      <td>9998</td>\n",
       "      <td>9991</td>\n",
       "      <td>1</td>\n",
       "      <td>2</td>\n",
       "      <td>Belgium Jupiler League</td>\n",
       "      <td>RAEC Mons</td>\n",
       "      <td>RAEC Mons2008/2009</td>\n",
       "      <td>KAA Gent</td>\n",
       "      <td>KAA Gent2008/2009</td>\n",
       "      <td>0.088235</td>\n",
       "      <td>1</td>\n",
       "      <td>2009</td>\n",
       "      <td>65.0</td>\n",
       "      <td>50.0</td>\n",
       "      <td>55.0</td>\n",
       "      <td>1.377104</td>\n",
       "    </tr>\n",
       "    <tr>\n",
       "      <th>4</th>\n",
       "      <td>2008/2009</td>\n",
       "      <td>9985</td>\n",
       "      <td>7947</td>\n",
       "      <td>3</td>\n",
       "      <td>2</td>\n",
       "      <td>Belgium Jupiler League</td>\n",
       "      <td>Standard de Liège</td>\n",
       "      <td>Standard de Liège2008/2009</td>\n",
       "      <td>FCV Dender EH</td>\n",
       "      <td>FCV Dender EH2008/2009</td>\n",
       "      <td>0.705882</td>\n",
       "      <td>0</td>\n",
       "      <td>2009</td>\n",
       "      <td>65.0</td>\n",
       "      <td>70.0</td>\n",
       "      <td>70.0</td>\n",
       "      <td>1.377104</td>\n",
       "    </tr>\n",
       "  </tbody>\n",
       "</table>\n",
       "</div>"
      ],
      "text/plain": [
       "      season  home_team_api_id  away_team_api_id  home_team_goal  \\\n",
       "0  2008/2009              9993              9987               4   \n",
       "1  2008/2009              9994             10000               2   \n",
       "2  2008/2009              8635              9984               1   \n",
       "3  2008/2009              9998              9991               1   \n",
       "4  2008/2009              9985              7947               3   \n",
       "\n",
       "   away_team_goal             league_name       home_team_ln  \\\n",
       "0               1  Belgium Jupiler League       Beerschot AC   \n",
       "1               1  Belgium Jupiler League   Sporting Lokeren   \n",
       "2               2  Belgium Jupiler League     RSC Anderlecht   \n",
       "3               2  Belgium Jupiler League          RAEC Mons   \n",
       "4               2  Belgium Jupiler League  Standard de Liège   \n",
       "\n",
       "                    home_team       away_team_ln                   away_team  \\\n",
       "0       Beerschot AC2008/2009           KRC Genk           KRC Genk2008/2009   \n",
       "1   Sporting Lokeren2008/2009   SV Zulte-Waregem   SV Zulte-Waregem2008/2009   \n",
       "2     RSC Anderlecht2008/2009  KSV Cercle Brugge  KSV Cercle Brugge2008/2009   \n",
       "3          RAEC Mons2008/2009           KAA Gent           KAA Gent2008/2009   \n",
       "4  Standard de Liège2008/2009      FCV Dender EH      FCV Dender EH2008/2009   \n",
       "\n",
       "   win_coef  home_team_result  year  chancecreationshooting  defencepressure  \\\n",
       "0  0.323529                 0  2009                    50.0             70.0   \n",
       "1  0.382353                 0  2009                    50.0             65.0   \n",
       "2  0.705882                 1  2009                    60.0             70.0   \n",
       "3  0.088235                 1  2009                    65.0             50.0   \n",
       "4  0.705882                 0  2009                    65.0             70.0   \n",
       "\n",
       "   defenceaggression  avg_goal_diff_by_league  \n",
       "0               70.0                 1.377104  \n",
       "1               65.0                 1.377104  \n",
       "2               50.0                 1.377104  \n",
       "3               55.0                 1.377104  \n",
       "4               70.0                 1.377104  "
      ]
     },
     "execution_count": 55,
     "metadata": {},
     "output_type": "execute_result"
    }
   ],
   "source": [
    "match_stat_f_model.head()"
   ]
  },
  {
   "cell_type": "markdown",
   "id": "f489c592",
   "metadata": {},
   "source": [
    "### Модель линейной регрессии, предсказывающая вероятность победы команды в матче.\n",
    "###### P.S.: Наша основная модель"
   ]
  },
  {
   "cell_type": "code",
   "execution_count": 56,
   "id": "74952422",
   "metadata": {},
   "outputs": [],
   "source": [
    "def win(match_stat_f_model):\n",
    "    \n",
    "    if match_stat_f_model.home_team_goal > match_stat_f_model.away_team_goal:\n",
    "        return match_stat_f_model.home_team_ln\n",
    "    elif match_stat_f_model.away_team_goal > match_stat_f_model.home_team_goal:\n",
    "        return match_stat_f_model.away_team_ln\n",
    "    else:\n",
    "        return 'draw'\n",
    "\n",
    "match_stat_f_model['match_winner'] = match_stat_f_model[['home_team_goal','away_team_goal','home_team_ln','away_team_ln']].apply(win, axis=1)"
   ]
  },
  {
   "cell_type": "code",
   "execution_count": 57,
   "id": "a69af001",
   "metadata": {},
   "outputs": [],
   "source": [
    "# функция, принимающая значения о полном названии команды и сезоне и выводящая метрики для этой команды на определенный сезон\n",
    "def GetSeasonTeamStat(home_team_ln, year):\n",
    "\n",
    "    win_coef = 0\n",
    "    chancecreationshooting = 0\n",
    "    defencepressure = 0\n",
    "    defenceaggression = 0\n",
    "    avg_goal_diff_by_league = 0\n",
    "    \n",
    "    for i in range(len(match_stat_f_model)):\n",
    "        if ((match_stat_f_model['home_team_ln'][i] == home_team_ln) and (match_stat_f_model['year'][i] == year)):\n",
    "             \n",
    "            win_coef = match_stat_f_model['win_coef'][i]\n",
    "            chancecreationshooting = match_stat_f_model['chancecreationshooting'][i]\n",
    "            defencepressure = match_stat_f_model['defencepressure'][i]\n",
    "            defenceaggression = match_stat_f_model['defenceaggression'][i]\n",
    "            avg_goal_diff_by_league = match_stat_f_model['avg_goal_diff_by_league'][i]\n",
    "    \n",
    "    return [round(win_coef, 3), chancecreationshooting, defencepressure, defenceaggression, round(avg_goal_diff_by_league, 3)]"
   ]
  },
  {
   "cell_type": "code",
   "execution_count": 58,
   "id": "a202523c",
   "metadata": {},
   "outputs": [
    {
     "data": {
      "text/plain": [
       "[0.265, 65.0, 50.0, 55.0, 1.377]"
      ]
     },
     "execution_count": 58,
     "metadata": {},
     "output_type": "execute_result"
    }
   ],
   "source": [
    "# пример для команды FCV Dender EH на 2009 год\n",
    "GetSeasonTeamStat('FCV Dender EH', 2009)"
   ]
  },
  {
   "cell_type": "code",
   "execution_count": 59,
   "id": "cf6b5ff9",
   "metadata": {},
   "outputs": [],
   "source": [
    "import collections"
   ]
  },
  {
   "cell_type": "code",
   "execution_count": 137,
   "id": "38dfd9b1",
   "metadata": {},
   "outputs": [],
   "source": [
    "# функция, принимающая значение года и выводящая все метрики для всех команд, присутствующих в датафрейме о результатах матчей,\n",
    "# на указанный год\n",
    "def GetSeasonAllTeamStat(year):\n",
    "    annual = collections.defaultdict(list)\n",
    "    for team in match_stat_f_model.home_team_ln.unique().tolist():\n",
    "        team_vector = GetSeasonTeamStat(team, year)\n",
    "        annual[team] = team_vector\n",
    "    return annual"
   ]
  },
  {
   "cell_type": "code",
   "execution_count": 139,
   "id": "f167058c",
   "metadata": {},
   "outputs": [],
   "source": [
    "# функция, принимающая рэндж годов и выводящая все метрики для всех команд, присутствующих в датафрейме о результатах матчей,\n",
    "# на указанный рэндж годов\n",
    "def GetTrainingData(years):\n",
    "    totalNumGames = 0\n",
    "    for year in years:\n",
    "        annual = match_stat_f_model[match_stat_f_model['year'] == year]\n",
    "        totalNumGames += len(annual.index)\n",
    "    numFeatures = len(GetSeasonTeamStat('FC Thun', 2014)) #случайная команда для определения размерности\n",
    "    xTrain = np.zeros((totalNumGames, numFeatures))\n",
    "    yTrain = np.zeros((totalNumGames))\n",
    "    indexCounter = 0\n",
    "    for year in years:\n",
    "        team_vectors = GetSeasonAllTeamStat(year)\n",
    "        annual = match_stat_f_model[match_stat_f_model['year'] == year]\n",
    "        numGamesInYear = len(annual.index)\n",
    "        xTrainAnnual = np.zeros((numGamesInYear, numFeatures))\n",
    "        yTrainAnnual = np.zeros((numGamesInYear))\n",
    "        counter = 0\n",
    "        for index, rew in annual.iterrows():\n",
    "            team = rew['home_team_ln']\n",
    "            t_vector = team_vectors[team]\n",
    "            rivals = rew['away_team_ln']\n",
    "            r_vector = team_vectors[rivals]\n",
    "           \n",
    "            diff = [a - b for a, b in zip(t_vector, r_vector)]\n",
    "            \n",
    "            if len(diff) != 0:\n",
    "                xTrainAnnual[counter] = diff\n",
    "            if team == rew['match_winner']:\n",
    "                yTrainAnnual[counter] = 1\n",
    "            else: \n",
    "                yTrainAnnual[counter] = 0\n",
    "            counter += 1   \n",
    "        xTrain[indexCounter:numGamesInYear+indexCounter] = xTrainAnnual\n",
    "        yTrain[indexCounter:numGamesInYear+indexCounter] = yTrainAnnual\n",
    "        indexCounter += numGamesInYear\n",
    "    return xTrain, yTrain"
   ]
  },
  {
   "cell_type": "code",
   "execution_count": 140,
   "id": "25b99db1",
   "metadata": {},
   "outputs": [],
   "source": [
    "years = range(2009,2015)\n",
    "xTrain, yTrain = GetTrainingData(years)"
   ]
  },
  {
   "cell_type": "code",
   "execution_count": 141,
   "id": "9e166d59",
   "metadata": {},
   "outputs": [],
   "source": [
    "# функция, принимающая значения двух команд на определенный год и выводящая вероятность победы для 1 указанной команды\n",
    "def createGamePrediction(team1_vector, team2_vector):\n",
    "    diff = [[a - b for a, b in zip(team1_vector, team2_vector)]]\n",
    "    predictions = model.predict(diff)\n",
    "    return predictions"
   ]
  },
  {
   "cell_type": "code",
   "execution_count": 142,
   "id": "71d73d67",
   "metadata": {},
   "outputs": [
    {
     "data": {
      "text/plain": [
       "LinearRegression()"
      ]
     },
     "execution_count": 142,
     "metadata": {},
     "output_type": "execute_result"
    }
   ],
   "source": [
    "from sklearn.linear_model import LinearRegression\n",
    "\n",
    "model = LinearRegression()\n",
    "model.fit(xTrain, yTrain)"
   ]
  },
  {
   "cell_type": "code",
   "execution_count": 152,
   "id": "22fd616c",
   "metadata": {},
   "outputs": [
    {
     "name": "stdout",
     "output_type": "stream",
     "text": [
      "Вероятность победы 1 команды:  [0.13174484]\n",
      "Вероятность ничьи:  [0.07908064]\n",
      "Вероятность победы 2 команды:  [0.78917452]\n"
     ]
    }
   ],
   "source": [
    "# пример для двух команд - Liverpool и FC Barcelona - на 2012 год. при этом команды играют в разных лигах, при этом результат\n",
    "# выдается, поскольку модель устойчива к дифференцации лиг из-за устойчивых метрик\n",
    "team1_vector = GetSeasonTeamStat('Liverpool', 2012)\n",
    "team2_vector = GetSeasonTeamStat('FC Barcelona', 2012)\n",
    "\n",
    "team1pred = createGamePrediction(team1_vector, team2_vector)\n",
    "team2pred = createGamePrediction(team2_vector, team1_vector)\n",
    "print(\"Вероятность победы 1 команды: \", team1pred)\n",
    "print(\"Вероятность ничьи: \", 1.0-(team1pred+team2pred))\n",
    "print(\"Вероятность победы 2 команды: \", team2pred)"
   ]
  },
  {
   "cell_type": "code",
   "execution_count": null,
   "id": "44267d94",
   "metadata": {},
   "outputs": [],
   "source": [
    "# цикл выводит результаты вероятности побед и ничьей для указанной команды со всевозможными командами из исходного датафрейма\n",
    "for team_name in match_stat_f_model.home_team_ln.tolist():\n",
    "    team1_name = 'Beerschot AC'\n",
    "    team2_name = team_name\n",
    "    \n",
    "    if(team1_name != team2_name):\n",
    "        team1_vector = GetSeasonTeamStat(team1_name, 2010)\n",
    "        team2_vector = GetSeasonTeamStat(team2_name, 2010)\n",
    "\n",
    "        print(team1_name, createGamePrediction(team1_vector, team2_vector), \" - \", team2_name, createGamePrediction(team2_vector, team1_vector,))"
   ]
  },
  {
   "cell_type": "markdown",
   "id": "331510e2",
   "metadata": {},
   "source": [
    "# Модели классификации"
   ]
  },
  {
   "cell_type": "markdown",
   "id": "955b759e",
   "metadata": {},
   "source": [
    "### RandomForestClassifier"
   ]
  },
  {
   "cell_type": "code",
   "execution_count": 71,
   "id": "d317e0ab",
   "metadata": {},
   "outputs": [],
   "source": [
    "X = match_stat_f_model.iloc[:,[10, 12, 13, 14, 15, 16]]\n",
    "Y = match_stat_f_model.home_team_result"
   ]
  },
  {
   "cell_type": "code",
   "execution_count": 72,
   "id": "7ae60e01",
   "metadata": {},
   "outputs": [],
   "source": [
    "from sklearn.model_selection import train_test_split"
   ]
  },
  {
   "cell_type": "code",
   "execution_count": 73,
   "id": "f486ada9",
   "metadata": {},
   "outputs": [],
   "source": [
    "X_train, X_test, Y_train, Y_test = train_test_split(X, Y, test_size = 0.25, random_state = 2020)"
   ]
  },
  {
   "cell_type": "code",
   "execution_count": 74,
   "id": "2ae300a7",
   "metadata": {},
   "outputs": [],
   "source": [
    "Y_train = np.array(Y_train)"
   ]
  },
  {
   "cell_type": "code",
   "execution_count": 75,
   "id": "3bcf5592",
   "metadata": {},
   "outputs": [
    {
     "name": "stdout",
     "output_type": "stream",
     "text": [
      "Accuracy: 0.4337946705226193\n"
     ]
    }
   ],
   "source": [
    "from sklearn.ensemble import RandomForestClassifier\n",
    "from sklearn import metrics\n",
    "\n",
    "rfc = RandomForestClassifier()\n",
    "rfc.fit(X_train, Y_train)\n",
    "\n",
    "Y_pred = rfc.predict(X_test)\n",
    "print(\"Accuracy:\", metrics.accuracy_score(Y_test, Y_pred))"
   ]
  },
  {
   "cell_type": "code",
   "execution_count": 76,
   "id": "c5f2a550",
   "metadata": {},
   "outputs": [
    {
     "data": {
      "image/png": "[encoded data removed]",
      "text/plain": [
       "<Figure size 2160x1080 with 1 Axes>"
      ]
     },
     "metadata": {},
     "output_type": "display_data"
    },
    {
     "data": {
      "text/plain": [
       "None"
      ]
     },
     "metadata": {},
     "output_type": "display_data"
    },
    {
     "data": {
      "text/html": [
       "<div>\n",
       "<style scoped>\n",
       "    .dataframe tbody tr th:only-of-type {\n",
       "        vertical-align: middle;\n",
       "    }\n",
       "\n",
       "    .dataframe tbody tr th {\n",
       "        vertical-align: top;\n",
       "    }\n",
       "\n",
       "    .dataframe thead th {\n",
       "        text-align: right;\n",
       "    }\n",
       "</style>\n",
       "<table border=\"1\" class=\"dataframe\">\n",
       "  <thead>\n",
       "    <tr style=\"text-align: right;\">\n",
       "      <th></th>\n",
       "      <th>Features</th>\n",
       "      <th>Gini-Importance</th>\n",
       "    </tr>\n",
       "  </thead>\n",
       "  <tbody>\n",
       "    <tr>\n",
       "      <th>0</th>\n",
       "      <td>win_coef</td>\n",
       "      <td>0.390478</td>\n",
       "    </tr>\n",
       "    <tr>\n",
       "      <th>1</th>\n",
       "      <td>avg_goal_diff_by_league</td>\n",
       "      <td>0.142081</td>\n",
       "    </tr>\n",
       "    <tr>\n",
       "      <th>2</th>\n",
       "      <td>chancecreationshooting</td>\n",
       "      <td>0.138482</td>\n",
       "    </tr>\n",
       "    <tr>\n",
       "      <th>3</th>\n",
       "      <td>defencepressure</td>\n",
       "      <td>0.130032</td>\n",
       "    </tr>\n",
       "    <tr>\n",
       "      <th>4</th>\n",
       "      <td>defenceaggression</td>\n",
       "      <td>0.128047</td>\n",
       "    </tr>\n",
       "    <tr>\n",
       "      <th>5</th>\n",
       "      <td>year</td>\n",
       "      <td>0.070880</td>\n",
       "    </tr>\n",
       "  </tbody>\n",
       "</table>\n",
       "</div>"
      ],
      "text/plain": [
       "                  Features  Gini-Importance\n",
       "0                 win_coef         0.390478\n",
       "1  avg_goal_diff_by_league         0.142081\n",
       "2   chancecreationshooting         0.138482\n",
       "3          defencepressure         0.130032\n",
       "4        defenceaggression         0.128047\n",
       "5                     year         0.070880"
      ]
     },
     "metadata": {},
     "output_type": "display_data"
    }
   ],
   "source": [
    "feats = {}\n",
    "for feature, importance in zip(X.columns, rfc.feature_importances_):\n",
    "    feats[feature] = importance\n",
    "importances = pd.DataFrame.from_dict(feats, orient='index').rename(columns={0: 'Gini-Importance'})\n",
    "importances = importances.sort_values(by='Gini-Importance', ascending=False)\n",
    "importances = importances.reset_index()\n",
    "importances = importances.rename(columns={'index': 'Features'})\n",
    "sns.set(font_scale = 5)\n",
    "sns.set(style=\"whitegrid\", color_codes=True, font_scale = 1.7)\n",
    "fig, ax = plt.subplots()\n",
    "fig.set_size_inches(30,15)\n",
    "sns.barplot(x=importances['Gini-Importance'], y=importances['Features'], data=importances, color='skyblue')\n",
    "plt.xlabel('Importance', fontsize=25, weight = 'bold')\n",
    "plt.ylabel('Features', fontsize=25, weight = 'bold')\n",
    "plt.title('Feature Importance', fontsize=25, weight = 'bold')\n",
    "display(plt.show())\n",
    "display(importances)"
   ]
  },
  {
   "cell_type": "markdown",
   "id": "3ef34c04",
   "metadata": {},
   "source": [
    "### Model XBClassifier"
   ]
  },
  {
   "cell_type": "code",
   "execution_count": 77,
   "id": "cc71be3b",
   "metadata": {},
   "outputs": [],
   "source": [
    "## Model XBClassifier\n",
    "X = match_stat_f_model.iloc[:,[10, 12, 13, 14, 15, 16]]\n",
    "Y = match_stat_f_model.home_team_result"
   ]
  },
  {
   "cell_type": "code",
   "execution_count": 78,
   "id": "f50af677",
   "metadata": {},
   "outputs": [],
   "source": [
    "X_train, X_test, Y_train, Y_test = train_test_split(X, Y, test_size = 0.25, random_state = 2025)"
   ]
  },
  {
   "cell_type": "code",
   "execution_count": 79,
   "id": "4569e21a",
   "metadata": {},
   "outputs": [],
   "source": [
    "Y_train = np.array(Y_train)"
   ]
  },
  {
   "cell_type": "code",
   "execution_count": 81,
   "id": "e314d32c",
   "metadata": {},
   "outputs": [
    {
     "name": "stdout",
     "output_type": "stream",
     "text": [
      "Accuracy: 44.68%\n"
     ]
    }
   ],
   "source": [
    "from xgboost import XGBClassifier\n",
    "\n",
    "\n",
    "\n",
    "model = XGBClassifier()\n",
    "model.fit(X_train, Y_train)\n",
    "\n",
    "from sklearn.metrics import accuracy_score\n",
    "\n",
    "Y_pred = model.predict(X_test)\n",
    "predictions = [round(value) for value in Y_pred]\n",
    "# evaluate predictions\n",
    "accuracy = accuracy_score(Y_test, predictions)\n",
    "print(\"Accuracy: %.2f%%\" % (accuracy * 100.0))"
   ]
  },
  {
   "cell_type": "markdown",
   "id": "2c188754",
   "metadata": {},
   "source": [
    "### KNeighbors Model"
   ]
  },
  {
   "cell_type": "code",
   "execution_count": 82,
   "id": "83bace8c",
   "metadata": {},
   "outputs": [],
   "source": [
    "X = match_stat_f_model.iloc[:,[10, 12, 13, 14, 15, 16]]\n",
    "Y = match_stat_f_model.home_team_result"
   ]
  },
  {
   "cell_type": "code",
   "execution_count": 83,
   "id": "7d1200ee",
   "metadata": {},
   "outputs": [],
   "source": [
    "X_train, X_test, Y_train, Y_test = train_test_split(X, Y, test_size = 0.25, random_state = 870)"
   ]
  },
  {
   "cell_type": "code",
   "execution_count": 84,
   "id": "48c50eec",
   "metadata": {},
   "outputs": [],
   "source": [
    "Y_train = np.array(Y_train)"
   ]
  },
  {
   "cell_type": "code",
   "execution_count": 85,
   "id": "e45938f7",
   "metadata": {},
   "outputs": [
    {
     "name": "stdout",
     "output_type": "stream",
     "text": [
      "Accuracy: 44.41%\n"
     ]
    }
   ],
   "source": [
    "# KNeighbors Model\n",
    "\n",
    "from sklearn import model_selection\n",
    "from sklearn.neighbors import KNeighborsClassifier\n",
    "from sklearn.metrics import accuracy_score\n",
    "seed = 2001\n",
    "\n",
    "\n",
    "model1 = KNeighborsClassifier()\n",
    "model1.fit(X_train, Y_train)\n",
    "Y_pred = model1.predict(X_test)\n",
    "predictions = [round(value) for value in Y_pred]\n",
    "# evaluate predictions\n",
    "accuracy = accuracy_score(Y_test, predictions)\n",
    "print(\"Accuracy: %.2f%%\" % (accuracy * 100.0))"
   ]
  },
  {
   "cell_type": "markdown",
   "id": "f0d761dc",
   "metadata": {},
   "source": [
    "### Logistic Regression Model"
   ]
  },
  {
   "cell_type": "code",
   "execution_count": 86,
   "id": "229c63b1",
   "metadata": {},
   "outputs": [],
   "source": [
    "X = match_stat_f_model.iloc[:,[10, 12, 13, 14, 15, 16]]\n",
    "Y = match_stat_f_model.home_team_result"
   ]
  },
  {
   "cell_type": "code",
   "execution_count": 87,
   "id": "38aca302",
   "metadata": {},
   "outputs": [],
   "source": [
    "X_train, X_test, Y_train, Y_test = train_test_split(X, Y, test_size = 0.25, random_state = 650)"
   ]
  },
  {
   "cell_type": "code",
   "execution_count": 88,
   "id": "e7e4c24b",
   "metadata": {},
   "outputs": [],
   "source": [
    "Y_train = np.array(Y_train)"
   ]
  },
  {
   "cell_type": "code",
   "execution_count": 89,
   "id": "0e553c6c",
   "metadata": {
    "scrolled": true
   },
   "outputs": [
    {
     "name": "stdout",
     "output_type": "stream",
     "text": [
      "Accuracy: 47.78%\n"
     ]
    },
    {
     "name": "stderr",
     "output_type": "stream",
     "text": [
      "C:\\Users\\123\\anaconda3\\lib\\site-packages\\sklearn\\linear_model\\_logistic.py:763: ConvergenceWarning: lbfgs failed to converge (status=1):\n",
      "STOP: TOTAL NO. of ITERATIONS REACHED LIMIT.\n",
      "\n",
      "Increase the number of iterations (max_iter) or scale the data as shown in:\n",
      "    https://scikit-learn.org/stable/modules/preprocessing.html\n",
      "Please also refer to the documentation for alternative solver options:\n",
      "    https://scikit-learn.org/stable/modules/linear_model.html#logistic-regression\n",
      "  n_iter_i = _check_optimize_result(\n"
     ]
    }
   ],
   "source": [
    "# Logistic Regression Model\n",
    "\n",
    "from sklearn.linear_model import LogisticRegression\n",
    "from sklearn.metrics import accuracy_score\n",
    "\n",
    "model4 = LogisticRegression()\n",
    "model4.fit(X_train, Y_train)\n",
    "Y_pred = model4.predict(X_test)\n",
    "predictions = [round(value) for value in Y_pred]\n",
    "# evaluate predictions\n",
    "accuracy = accuracy_score(Y_test, predictions)\n",
    "print(\"Accuracy: %.2f%%\" % (accuracy * 100.0))"
   ]
  }
 ],
 "metadata": {
  "kernelspec": {
   "display_name": "Python 3 (ipykernel)",
   "language": "python",
   "name": "python3"
  },
  "language_info": {
   "codemirror_mode": {
    "name": "ipython",
    "version": 3
   },
   "file_extension": ".py",
   "mimetype": "text/x-python",
   "name": "python",
   "nbconvert_exporter": "python",
   "pygments_lexer": "ipython3",
   "version": "3.9.7"
  }
 },
 "nbformat": 4,
 "nbformat_minor": 5
}
